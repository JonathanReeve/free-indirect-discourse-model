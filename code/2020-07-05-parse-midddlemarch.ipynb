{
 "cells": [
  {
   "cell_type": "code",
   "execution_count": 1,
   "metadata": {},
   "outputs": [],
   "source": [
    "import glob\n",
    "import re\n",
    "\n",
    "import bs4\n",
    "import nltk\n",
    "import numpy as np\n",
    "import pandas as pd"
   ]
  },
  {
   "cell_type": "code",
   "execution_count": 2,
   "metadata": {},
   "outputs": [],
   "source": [
    "xmldir = \"../texts/corpus-eliot-middlemarch-tei\""
   ]
  },
  {
   "cell_type": "code",
   "execution_count": 3,
   "metadata": {},
   "outputs": [],
   "source": [
    "xmls = sorted(glob.glob(f\"{xmldir}/*.xml\"))\n",
    "books = [open(f).read() for f in xmls]\n",
    "soups = [bs4.BeautifulSoup(book) for book in books]"
   ]
  },
  {
   "cell_type": "markdown",
   "metadata": {},
   "source": [
    "Get all paragraphs"
   ]
  },
  {
   "cell_type": "code",
   "execution_count": 4,
   "metadata": {
    "scrolled": false
   },
   "outputs": [],
   "source": [
    "# soup = soups[0]\n",
    "# paras = soup.findAll('p')\n",
    "paras = [p for soup in soups for p in soup.findAll('p')]"
   ]
  },
  {
   "cell_type": "markdown",
   "metadata": {},
   "source": [
    "For each paragraph, check whether there are any `<FID>` tags"
   ]
  },
  {
   "cell_type": "code",
   "execution_count": 5,
   "metadata": {},
   "outputs": [],
   "source": [
    "dparas = pd.DataFrame({\n",
    "    'Index': np.arange(len(paras)),\n",
    "    'hasFID': [len(para.findAll('fid'))>0 for para in paras],\n",
    "})"
   ]
  },
  {
   "cell_type": "code",
   "execution_count": 6,
   "metadata": {},
   "outputs": [
    {
     "data": {
      "text/plain": [
       "hasFID\n",
       "False    3783\n",
       "True      805\n",
       "dtype: int64"
      ]
     },
     "execution_count": 6,
     "metadata": {},
     "output_type": "execute_result"
    }
   ],
   "source": [
    "dparas.groupby('hasFID').size()"
   ]
  },
  {
   "cell_type": "markdown",
   "metadata": {},
   "source": [
    "Convenience functions:\n",
    "\n",
    "* `dewrap` converts hard-wrapped strings to a single line\n",
    "* `parse_paragraph` parses (i) all sentences in a paragraph, (ii) only the FID sentences in the paragraph, and identifies the FID sentences that are actually subsentences. The subsentence / `complete` column is mostly useful for finding weird exceptions to sentence tokenization."
   ]
  },
  {
   "cell_type": "code",
   "execution_count": 7,
   "metadata": {},
   "outputs": [],
   "source": [
    "def dewrap(s):\n",
    "    # split at new lines, remove whitespace at beginning / end, join with space\n",
    "    return ' '.join([l.strip() for l in s.split('\\n') if l])\n",
    "\n",
    "def parse_paragraph(para):\n",
    "\n",
    "    raw = dewrap(para.get_text())\n",
    "    fids =  [dewrap(fid.get_text()) for fid in para.findAll('fid')]\n",
    "\n",
    "    raw_sentences = nltk.tokenize.sent_tokenize(raw)\n",
    "\n",
    "    fid_sentences = [sentence for fid in fids for sentence in nltk.tokenize.sent_tokenize(fid)]\n",
    "    # did the sentence end?\n",
    "    complete = [sentence[-1] in ['.', '!', '?'] for sentence in fid_sentences]\n",
    "\n",
    "    dfid = pd.DataFrame({\n",
    "        'sentence': fid_sentences,\n",
    "        'complete': complete,\n",
    "    })\n",
    "    \n",
    "    draw = pd.DataFrame({\n",
    "        'sentence': raw_sentences,\n",
    "    })\n",
    "    \n",
    "    return dfid, draw"
   ]
  },
  {
   "cell_type": "markdown",
   "metadata": {},
   "source": [
    "Loop over every paragraph. Parse the sentences in each paragraph. For each, check whether any FID sentence is a substring—i.e., **tag whether the given sentence is FID or not.** Also annotates each sentence with its paragraph's index, and summarizes the number of FID sentences in each. The `nComplete` and `nIncomplete` fields of the data frame `dparas` gives the number of FID sentences that do and do not end in `.` / `!` / `?`. This is primarily useful for debugging / finding weird results."
   ]
  },
  {
   "cell_type": "code",
   "execution_count": 8,
   "metadata": {},
   "outputs": [],
   "source": [
    "all_sentences = []\n",
    "dparas['nFID'] = 0\n",
    "dparas['nComplete'] = 0\n",
    "for i, row in dparas.iterrows():\n",
    "    ix = row.Index\n",
    "    para = paras[ix]\n",
    "    \n",
    "    dfid, draw = parse_paragraph(para)\n",
    "    # check whether any FID sentence is a subsentence of each raw sentence\n",
    "    draw['isFID'] = draw.sentence.apply(lambda s: any([(x in s) for x in dfid.sentence]))\n",
    "    draw['paraIndex'] = i\n",
    "    all_sentences.append(draw)\n",
    "    \n",
    "    dparas.loc[i, 'nFID'] = len(dfid)\n",
    "    dparas.loc[i, 'nComplete'] = sum(dfid.complete)\n",
    "dparas['nIncomplete'] = dparas.nFID - dparas.nComplete"
   ]
  },
  {
   "cell_type": "code",
   "execution_count": 9,
   "metadata": {},
   "outputs": [],
   "source": [
    "all_sentences = pd.concat(all_sentences)"
   ]
  },
  {
   "cell_type": "code",
   "execution_count": 10,
   "metadata": {},
   "outputs": [
    {
     "data": {
      "text/plain": [
       "isFID\n",
       "False    12686\n",
       "True      2058\n",
       "dtype: int64"
      ]
     },
     "execution_count": 10,
     "metadata": {},
     "output_type": "execute_result"
    }
   ],
   "source": [
    "all_sentences.groupby('isFID').size()"
   ]
  },
  {
   "cell_type": "markdown",
   "metadata": {},
   "source": [
    "# A weird example"
   ]
  },
  {
   "cell_type": "code",
   "execution_count": 11,
   "metadata": {},
   "outputs": [
    {
     "data": {
      "text/html": [
       "<div>\n",
       "<style scoped>\n",
       "    .dataframe tbody tr th:only-of-type {\n",
       "        vertical-align: middle;\n",
       "    }\n",
       "\n",
       "    .dataframe tbody tr th {\n",
       "        vertical-align: top;\n",
       "    }\n",
       "\n",
       "    .dataframe thead th {\n",
       "        text-align: right;\n",
       "    }\n",
       "</style>\n",
       "<table border=\"1\" class=\"dataframe\">\n",
       "  <thead>\n",
       "    <tr style=\"text-align: right;\">\n",
       "      <th></th>\n",
       "      <th>Index</th>\n",
       "      <th>hasFID</th>\n",
       "      <th>nFID</th>\n",
       "      <th>nComplete</th>\n",
       "      <th>nIncomplete</th>\n",
       "    </tr>\n",
       "  </thead>\n",
       "  <tbody>\n",
       "    <tr>\n",
       "      <th>267</th>\n",
       "      <td>267</td>\n",
       "      <td>True</td>\n",
       "      <td>3</td>\n",
       "      <td>1</td>\n",
       "      <td>2</td>\n",
       "    </tr>\n",
       "    <tr>\n",
       "      <th>3878</th>\n",
       "      <td>3878</td>\n",
       "      <td>True</td>\n",
       "      <td>4</td>\n",
       "      <td>2</td>\n",
       "      <td>2</td>\n",
       "    </tr>\n",
       "    <tr>\n",
       "      <th>4260</th>\n",
       "      <td>4260</td>\n",
       "      <td>True</td>\n",
       "      <td>2</td>\n",
       "      <td>0</td>\n",
       "      <td>2</td>\n",
       "    </tr>\n",
       "    <tr>\n",
       "      <th>4336</th>\n",
       "      <td>4336</td>\n",
       "      <td>True</td>\n",
       "      <td>2</td>\n",
       "      <td>0</td>\n",
       "      <td>2</td>\n",
       "    </tr>\n",
       "  </tbody>\n",
       "</table>\n",
       "</div>"
      ],
      "text/plain": [
       "      Index  hasFID  nFID  nComplete  nIncomplete\n",
       "267     267    True     3          1            2\n",
       "3878   3878    True     4          2            2\n",
       "4260   4260    True     2          0            2\n",
       "4336   4336    True     2          0            2"
      ]
     },
     "execution_count": 11,
     "metadata": {},
     "output_type": "execute_result"
    }
   ],
   "source": [
    "dparas[(dparas.nFID > 1) & (dparas.nIncomplete > 1)]"
   ]
  },
  {
   "cell_type": "code",
   "execution_count": 12,
   "metadata": {},
   "outputs": [],
   "source": [
    "para = paras[267]\n",
    "dfid, draw = parse_paragraph(para)"
   ]
  },
  {
   "cell_type": "code",
   "execution_count": 13,
   "metadata": {},
   "outputs": [],
   "source": [
    "fids =  [dewrap(fid.get_text()) for fid in para.findAll('fid')]"
   ]
  },
  {
   "cell_type": "code",
   "execution_count": 14,
   "metadata": {},
   "outputs": [],
   "source": [
    "x = fids[0]"
   ]
  },
  {
   "cell_type": "code",
   "execution_count": 15,
   "metadata": {},
   "outputs": [
    {
     "data": {
      "text/plain": [
       "['Mr. Casaubon was touched with an unknown delight (what man would not have been?)',\n",
       " 'at this childlike unrestrained ardor: he was not surprised (what lover would have been?)',\n",
       " 'that he should be the object of it.']"
      ]
     },
     "execution_count": 15,
     "metadata": {},
     "output_type": "execute_result"
    }
   ],
   "source": [
    "nltk.tokenize.sent_tokenize(x)"
   ]
  },
  {
   "cell_type": "code",
   "execution_count": 16,
   "metadata": {},
   "outputs": [
    {
     "name": "stdout",
     "output_type": "stream",
     "text": [
      "<p>\n",
      "Nevertheless before the evening was at an end she was very happy.  In\n",
      "an hour's <i>tete-a-tete</i> with Mr. Casaubon she talked to him with more\n",
      "freedom than she had ever felt before, even pouring out her joy at the\n",
      "thought of devoting herself to him, and of learning how she might best\n",
      "share and further all his great ends. <fid who=\"#C\"> Mr. Casaubon was touched with an\n",
      "unknown delight (what man would not have been?) at this childlike\n",
      "unrestrained ardor: he was not surprised (what lover would have been?)\n",
      "that he should be the object of it. </fid>\n",
      "</p>\n"
     ]
    }
   ],
   "source": [
    "print(para)"
   ]
  },
  {
   "cell_type": "code",
   "execution_count": 17,
   "metadata": {},
   "outputs": [
    {
     "data": {
      "text/plain": [
       "array(['Mr. Casaubon was touched with an unknown delight (what man would not have been?)',\n",
       "       'at this childlike unrestrained ardor: he was not surprised (what lover would have been?)',\n",
       "       'that he should be the object of it.'], dtype=object)"
      ]
     },
     "execution_count": 17,
     "metadata": {},
     "output_type": "execute_result"
    }
   ],
   "source": [
    "dfid.sentence.values"
   ]
  },
  {
   "cell_type": "code",
   "execution_count": 18,
   "metadata": {},
   "outputs": [
    {
     "data": {
      "text/plain": [
       "array(['Nevertheless before the evening was at an end she was very happy.',\n",
       "       \"In an hour's tete-a-tete with Mr. Casaubon she talked to him with more freedom than she had ever felt before, even pouring out her joy at the thought of devoting herself to him, and of learning how she might best share and further all his great ends.\",\n",
       "       'Mr. Casaubon was touched with an unknown delight (what man would not have been?)',\n",
       "       'at this childlike unrestrained ardor: he was not surprised (what lover would have been?)',\n",
       "       'that he should be the object of it.'], dtype=object)"
      ]
     },
     "execution_count": 18,
     "metadata": {},
     "output_type": "execute_result"
    }
   ],
   "source": [
    "draw.sentence.values"
   ]
  }
 ],
 "metadata": {
  "kernelspec": {
   "display_name": "Python 3",
   "language": "python",
   "name": "python3"
  },
  "language_info": {
   "codemirror_mode": {
    "name": "ipython",
    "version": 3
   },
   "file_extension": ".py",
   "mimetype": "text/x-python",
   "name": "python",
   "nbconvert_exporter": "python",
   "pygments_lexer": "ipython3",
   "version": "3.7.4"
  }
 },
 "nbformat": 4,
 "nbformat_minor": 4
}
